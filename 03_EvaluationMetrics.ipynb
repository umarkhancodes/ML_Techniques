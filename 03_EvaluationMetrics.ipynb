{
 "cells": [
  {
   "cell_type": "code",
   "execution_count": 1,
   "id": "c3d2e2b5",
   "metadata": {},
   "outputs": [],
   "source": [
    "#If we talk about classification problems, the most common metrics used are:\n",
    "#- Accuracy\n",
    "#- Precision (P)\n",
    "#- Recall (R)\n",
    "#- F1 score (F1)\n",
    "#- Area under the ROC (Receiver Operating Characteristic) curve or simply AUC (AUC)\n",
    "#- Log loss\n",
    "#- Precision at k (P@k)\n",
    "#- Average precision at k (AP@k)\n",
    "#- Mean average precision at k (MAP@k)\n",
    "\n",
    "\n",
    "#When it comes to regression, the most commonly used evaluation metrics are:\n",
    "#- Mean absolute error (MAE)\n",
    "#- Mean squared error (MSE)\n",
    "#- Root mean squared error (RMSE)\n",
    "#- Root mean squared logarithmic error (RMSLE)\n",
    "#- Mean percentage error (MPE)\n",
    "#- Mean absolute percentage error (MAPE)\n",
    "#- R2"
   ]
  },
  {
   "cell_type": "code",
   "execution_count": 3,
   "id": "06d16dc7",
   "metadata": {},
   "outputs": [],
   "source": [
    "# for balanced dataset - binary classification problem \n",
    "    # we use accuracy, precision, recall, f1 \n",
    "\n",
    "# tp, tn, fp (type I error), fn (Type II error)\n",
    "\n",
    "# accuracy : describing how accurate the model is (not good for skewed datasets)\n",
    "    # (tp+tn)/(tp+tn+fp+fn)\n",
    "\n",
    "# precision : tp/(tp+fp)\n",
    "# recall : tp/(tp+fn) - same as tpr (true positive rate / senstivity)\n",
    "# false positive rate (fpr) = fp/(tn+fp) ; 1-fpr = true negative rate (specificity)\n",
    "\n",
    "# MOST IMPORTANT ARE TPR AND FPR \n",
    "\n",
    "\n",
    "# both of above ranges from 0 to 1 and closer to 1 is better \n",
    "\n",
    "# how we select the probability threshold greatly impact the value of precision and recall \n",
    " # precision - recall curve : curve of precision and recall for different values of threshold \n",
    "    \n",
    "# f1 score = 2pr/(p+r) , ranging from 0 to 1 (use this for skewed datasets)\n",
    "\n",
    "# ROC Curve : TPR (on y-axis), FPR (on x-axis) {for different value of threshold}\n",
    "# - area under this curve is Area under the ROC curve \n",
    "# AUC (area under curve) = 1 : perfect model\n",
    "# AUC = 0 : very bad \n",
    "# AUC = 0.5 : totally random\n",
    "\n",
    "# an AUC of 0.85 means the if we select a positive and a negative sample from dataset\n",
    "# the model will rank the postive sample higher then the negative sample with a probability of 0.85 \n",
    "\n"
   ]
  },
  {
   "cell_type": "code",
   "execution_count": 4,
   "id": "b0069b24",
   "metadata": {},
   "outputs": [],
   "source": [
    "# thresholds are used to make predictions \n",
    "# value of threshold can be selected from ROC Curve \n",
    "# we want to minimize false positives, and maintain the true positives\n",
    "\n",
    "# log loss : -ylog(y^) + (1-y)log(1-y^)"
   ]
  },
  {
   "cell_type": "code",
   "execution_count": 5,
   "id": "3f259e3b",
   "metadata": {},
   "outputs": [],
   "source": [
    "# for multi class classification problem \n",
    "\n",
    "\n",
    "# following are all one vs all approaches \n",
    "\n",
    "# macro-averaged  : calculate precision for all classes and average them\n",
    "# micro-averaged  : calculate class wise tp,etc then sum and then calculate overall precision\n",
    "# weighted  : same as macro, with weighted average (wrt number of samples )"
   ]
  },
  {
   "cell_type": "code",
   "execution_count": 6,
   "id": "31fec6d8",
   "metadata": {},
   "outputs": [],
   "source": [
    "# confusion matrix  (prediction {vertical}, actual {top horizontal})\n"
   ]
  },
  {
   "cell_type": "code",
   "execution_count": 8,
   "id": "17381982",
   "metadata": {},
   "outputs": [],
   "source": [
    "# multi-label classification (Each sample can have one or more classes associated with it)\n",
    "# eg detect all objects present in an image \n",
    "\n",
    "# for such problems we use \n",
    "\n",
    "# precision at k {considering only top k predictions } - number of hits (intersection of true and predicted labels)/k\n",
    "# average precision at k - e.g., ap@3 = average(p@1, p@2, p@3)\n",
    "# mean average precision at k - mean (avg) of ap@k (from 1 to k)\n",
    "# log loss - mean column wise log loss (convert targets to binary and use log loss for each column)\n",
    "\n",
    "# ranging from 0 to 1\n",
    "\n"
   ]
  },
  {
   "cell_type": "code",
   "execution_count": 1,
   "id": "b6df8cc7",
   "metadata": {},
   "outputs": [],
   "source": [
    "# Regression Metrics "
   ]
  },
  {
   "cell_type": "code",
   "execution_count": 2,
   "id": "70ab11a1",
   "metadata": {},
   "outputs": [],
   "source": [
    "# Error : actual_value - predicted_value\n",
    "# absolute error : abs(error)\n",
    "# mean absolute error : mean(all absolute errors)\n",
    "\n",
    "# squared error : (actual - predicted)^2\n",
    "# mean squared error : mean (all squared errors)\n",
    "# root mean squared error : sqrt ( MSE )\n",
    "\n",
    "# Squared logrithmic error  :( log(1+actual)-log(1+predicted) )^2 \n",
    "# mean squared logrithmic error : mean (of all squared logrithmic errors)\n",
    "# root mean squared logrithmic error : sqrt(MSLE)\n",
    "\n",
    "# percentage error : ((actual - predicted)/actual)*100 %\n",
    "# mean percentage error \n",
    "# mean absolute percentage error \n",
    "\n",
    "# R2 (R squared) (cooficient of determination) (0 to 1) (1 being good, 0 being bad) (can also be negative {absurd predictions})\n",
    "# 1 -  (  sum all squared errors/sum of (actual - mean of actual)^2  )\n",
    "# 1 - RSS/TSS\n",
    "# RSS = Sum of square of residuals(errors)\n",
    "# TSS = total sum of squares (actual - mean)^2\n",
    "\n",
    "\n"
   ]
  },
  {
   "cell_type": "code",
   "execution_count": 3,
   "id": "19232147",
   "metadata": {},
   "outputs": [],
   "source": [
    "# advanced metrics "
   ]
  },
  {
   "cell_type": "code",
   "execution_count": 4,
   "id": "28d250cb",
   "metadata": {},
   "outputs": [],
   "source": [
    "# cohen's kappa : used for classification (measures the aggrement between two ratings (i.e. how close they are to each other))\n",
    "# closer to 1 is better, closer to 0 is bad \n",
    "\n",
    "# MCC Mathews correlation coefficient (for classification) (-1 to 1) (-1 is bad , 0 is random , 1 is good)\n",
    "# uses tp,tn,fp,fn and is thus good for skewed data "
   ]
  },
  {
   "cell_type": "code",
   "execution_count": 1,
   "id": "6f1bba73",
   "metadata": {},
   "outputs": [],
   "source": [
    "from sklearn import metrics"
   ]
  },
  {
   "cell_type": "code",
   "execution_count": 14,
   "id": "8abe8f72",
   "metadata": {},
   "outputs": [
    {
     "name": "stdout",
     "output_type": "stream",
     "text": [
      "accuracy :  0.5\n",
      "Precision :  0.5\n",
      "Recall :  1.0\n",
      "f1_score :  0.6666666666666666\n",
      "for threshold:  0.3  precision =  0.5 , recall =  1.0\n",
      "for threshold:  0.4  precision =  0.6666666666666666 , recall =  1.0\n",
      "for threshold:  0.45  precision =  1.0 , recall =  1.0\n",
      "for threshold:  0.5  precision =  1.0 , recall =  0.5\n",
      "for threshold:  1.5  TPR =  nan , FPR =  0.0\n",
      "for threshold:  0.5  TPR =  nan , FPR =  0.25\n",
      "for threshold:  0.3  TPR =  nan , FPR =  1.0\n",
      "log loss  :  0.4337502838523616\n"
     ]
    },
    {
     "name": "stderr",
     "output_type": "stream",
     "text": [
      "C:\\Users\\umar.khan2\\Anaconda3\\envs\\cm\\lib\\site-packages\\sklearn\\metrics\\_ranking.py:1018: UndefinedMetricWarning: No positive samples in y_true, true positive value should be meaningless\n",
      "  warnings.warn(\n"
     ]
    }
   ],
   "source": [
    "print('accuracy : ',metrics.accuracy_score([0,1],[1,1]))\n",
    "print('Precision : ',metrics.precision_score([0,1],[1,1]))\n",
    "print('Recall : ',metrics.recall_score([0,1],[1,1]))\n",
    "print('f1_score : ',metrics.f1_score([0,1],[1,1]))\n",
    "\n",
    "\n",
    "# precision recall curve \n",
    "\n",
    "prec,rec,threh=metrics.precision_recall_curve([0,0,1,1],[0.3,0.4,0.45,0.5])\n",
    "\n",
    "for x in range(len(threh)):\n",
    "    print('for threshold: ',threh[x], ' precision = ',prec[x], ', recall = ',rec[x])\n",
    "\n",
    "    \n",
    "# AUC \n",
    "\n",
    "fpr, tpr, thresholds = metrics.roc_curve([0,0,1,1],[0.3,0.4,0.45,0.5], pos_label=2) # x should be montonically incr/decre\n",
    "for x in range(len(thresholds)):\n",
    "    print('for threshold: ',thresholds[x], ' TPR = ',tpr[x], ', FPR = ',fpr[x])\n",
    "\n",
    "\n",
    "print('log loss  : ',metrics.log_loss([0,1],[0.4,0.7]))"
   ]
  },
  {
   "cell_type": "code",
   "execution_count": 21,
   "id": "b48b6150",
   "metadata": {},
   "outputs": [
    {
     "name": "stdout",
     "output_type": "stream",
     "text": [
      "0.38888888888888884\n",
      "0.5\n",
      "0.38888888888888884\n",
      "0.5\n"
     ]
    }
   ],
   "source": [
    "#multi class (macro, micro, weighted averages):\n",
    "\n",
    "y_true=[0,0,1,1,2,2]\n",
    "y_pred=[0,0,2,0,1,2]\n",
    "\n",
    "print(metrics.precision_score(y_true, y_pred, average=\"macro\"))\n",
    "print(metrics.precision_score(y_true, y_pred, average=\"micro\"))\n",
    "print(metrics.precision_score(y_true, y_pred, average=\"weighted\"))\n",
    "\n",
    "\n",
    "print(metrics.recall_score(y_true,y_pred,average=\"macro\"))\n"
   ]
  },
  {
   "cell_type": "code",
   "execution_count": 26,
   "id": "8af84fbd",
   "metadata": {},
   "outputs": [
    {
     "data": {
      "text/plain": [
       "Text(0.5, 23.5, 'Predicted Labels')"
      ]
     },
     "execution_count": 26,
     "metadata": {},
     "output_type": "execute_result"
    },
    {
     "data": {
      "image/png": "[encoded data removed]",
      "text/plain": [
       "<Figure size 504x504 with 1 Axes>"
      ]
     },
     "metadata": {},
     "output_type": "display_data"
    }
   ],
   "source": [
    "import matplotlib.pyplot as plt\n",
    "import seaborn as sns\n",
    "from sklearn import metrics\n",
    "\n",
    "# some targets\n",
    "y_true = [0, 1, 2, 0, 1, 2, 0, 2, 2]\n",
    "#some predictions\n",
    "y_pred = [0, 2, 1, 0, 2, 1, 0, 0, 2]\n",
    "\n",
    "# get confusion matrix from sklearn\n",
    "cm = metrics.confusion_matrix(y_true, y_pred)\n",
    "\n",
    "# plot using matplotlib and seaborn\n",
    "plt.figure(figsize=(7, 7))\n",
    "cmap = sns.cubehelix_palette(50, hue=0.05, rot=0, light=0.9, dark=0, as_cmap=True)\n",
    "sns.set(font_scale=2.5)\n",
    "sns.heatmap(cm, annot=True, cmap=cmap, cbar=False)\n",
    "\n",
    "plt.ylabel('Actual Labels', fontsize=20)\n",
    "plt.xlabel('Predicted Labels', fontsize=20)"
   ]
  },
  {
   "cell_type": "code",
   "execution_count": null,
   "id": "30646808",
   "metadata": {},
   "outputs": [],
   "source": []
  }
 ],
 "metadata": {
  "kernelspec": {
   "display_name": "cm",
   "language": "python",
   "name": "cm"
  },
  "language_info": {
   "codemirror_mode": {
    "name": "ipython",
    "version": 3
   },
   "file_extension": ".py",
   "mimetype": "text/x-python",
   "name": "python",
   "nbconvert_exporter": "python",
   "pygments_lexer": "ipython3",
   "version": "3.8.13"
  }
 },
 "nbformat": 4,
 "nbformat_minor": 5
}
