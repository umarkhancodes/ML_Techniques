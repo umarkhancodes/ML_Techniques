{
 "cells": [
  {
   "cell_type": "code",
   "execution_count": 1,
   "id": "e8097993",
   "metadata": {},
   "outputs": [],
   "source": [
    "# cross validation : ensures that model fits data accurately and does not overfit (very common with neural networks)\n",
    "# overfit (model fits perfectly on training set, while performs badly on test data)\n",
    "# or training loss keeps on decreasing, while test loss keeps on increasing \n",
    "# always monitor training/testing loss, when training neural networks\n",
    "# ^ Stop training when validation loss reaches its minimum value \n"
   ]
  },
  {
   "cell_type": "code",
   "execution_count": 2,
   "id": "40c7d068",
   "metadata": {},
   "outputs": [],
   "source": [
    "# occams razor : do not complicate things that can be solved in a simple manner  "
   ]
  },
  {
   "cell_type": "code",
   "execution_count": 3,
   "id": "b1e2e4e0",
   "metadata": {},
   "outputs": [],
   "source": [
    "# type of cross validation depends upon type of dataset at hand "
   ]
  },
  {
   "cell_type": "code",
   "execution_count": 5,
   "id": "1b4ace09",
   "metadata": {},
   "outputs": [],
   "source": [
    "# hold-out set cross validation : training on one part, and testing on another \n",
    "# k fold cross validation : data - randomize rows - k exclusive of each other \n",
    "# stratified k fold cross validation (default choice for classification problems, not used for regression)\n",
    "    #: data - stratified sampling (ratio of classes remains same) \n",
    "    # to be used for regression, first divide the target into bins \n",
    "    #sturgs rule : number of bins = 1+log2(N) (for small datasets)\n",
    "    \n",
    "# hold-out based validation : 10 folds of stratified sampling with a single hold out on which all metrics are computed \n",
    "# leave one out cross validation : k fold cross validation where k=n , results in n folds, \n",
    "    #where model is trained on all samples instead of 1 \n",
    "# group k fold cross validation : e.g., considering a patient as a single group"
   ]
  },
  {
   "cell_type": "code",
   "execution_count": 6,
   "id": "9375a939",
   "metadata": {},
   "outputs": [],
   "source": [
    "# split your data first, whether you are performing feature engineering or model training "
   ]
  },
  {
   "cell_type": "code",
   "execution_count": null,
   "id": "56d9c152",
   "metadata": {},
   "outputs": [],
   "source": []
  }
 ],
 "metadata": {
  "kernelspec": {
   "display_name": "cm",
   "language": "python",
   "name": "cm"
  },
  "language_info": {
   "codemirror_mode": {
    "name": "ipython",
    "version": 3
   },
   "file_extension": ".py",
   "mimetype": "text/x-python",
   "name": "python",
   "nbconvert_exporter": "python",
   "pygments_lexer": "ipython3",
   "version": "3.8.13"
  }
 },
 "nbformat": 4,
 "nbformat_minor": 5
}
